{
  "nbformat": 4,
  "nbformat_minor": 0,
  "metadata": {
    "colab": {
      "provenance": [],
      "authorship_tag": "ABX9TyOnYgHMaVXosIgDaiGjmyqy",
      "include_colab_link": true
    },
    "kernelspec": {
      "name": "python3",
      "display_name": "Python 3"
    },
    "language_info": {
      "name": "python"
    }
  },
  "cells": [
    {
      "cell_type": "markdown",
      "metadata": {
        "id": "view-in-github",
        "colab_type": "text"
      },
      "source": [
        "<a href=\"https://colab.research.google.com/github/Stkshamir/login-and-registration/blob/main/Untitled14.ipynb\" target=\"_parent\"><img src=\"https://colab.research.google.com/assets/colab-badge.svg\" alt=\"Open In Colab\"/></a>"
      ]
    },
    {
      "cell_type": "code",
      "execution_count": null,
      "metadata": {
        "colab": {
          "base_uri": "https://localhost:8080/"
        },
        "id": "_Z_AtL6Q8lIh",
        "outputId": "12cff75d-f88c-4b64-9793-6f11cda4d04b"
      },
      "outputs": [
        {
          "name": "stdout",
          "output_type": "stream",
          "text": [
            "Enter your username: shamirthalib\n"
          ]
        }
      ],
      "source": [
        "def login():\n",
        "    \n",
        "    username = input(\"Enter your username: \")\n",
        "    password = input(\"Enter your password: \")\n",
        "\n",
        "    \n",
        "    with open(\"users.txt\", \"r\") as f:\n",
        "        for line in f:\n",
        "            # Split the line into the username and password\n",
        "            user, pwd = line.strip().split()\n",
        "\n",
        "            # Check if the entered username and password match the ones in the file\n",
        "            if user == username and pwd == password:\n",
        "                print(\"Login successful\")\n",
        "                return\n",
        "    \n",
        "    # If the loop completes, the entered username and password were not found\n",
        "    print(\"Login unsuccessful\")\n",
        "\n",
        "login()"
      ]
    },
    {
      "cell_type": "code",
      "source": [],
      "metadata": {
        "id": "xd5B4c3488qb"
      },
      "execution_count": null,
      "outputs": []
    }
  ]
}