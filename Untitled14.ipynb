{
  "nbformat": 4,
  "nbformat_minor": 0,
  "metadata": {
    "colab": {
      "provenance": [],
      "authorship_tag": "ABX9TyNdaceZW+2sk1hXJ3VVlmUF",
      "include_colab_link": true
    },
    "kernelspec": {
      "name": "python3",
      "display_name": "Python 3"
    },
    "language_info": {
      "name": "python"
    }
  },
  "cells": [
    {
      "cell_type": "markdown",
      "metadata": {
        "id": "view-in-github",
        "colab_type": "text"
      },
      "source": [
        "<a href=\"https://colab.research.google.com/github/Stkshamir/login-and-registration/blob/main/Untitled14.ipynb\" target=\"_parent\"><img src=\"https://colab.research.google.com/assets/colab-badge.svg\" alt=\"Open In Colab\"/></a>"
      ]
    },
    {
      "cell_type": "code",
      "source": [
        "def login():\n",
        "    \n",
        "    username = input(\"Enter your username: \")\n",
        "    password = input(\"Enter your password: \")\n",
        "\n",
        "    \n",
        "    with open(\"users.txt\", \"r\") as f:\n",
        "        for line in f:\n",
        "            # Split the line into the username and password\n",
        "            user, pwd = line.strip().split()\n",
        "\n",
        "            # Check if the entered username and password match the ones in the file\n",
        "            if user == username and pwd == password:\n",
        "                print(\"Login successful\")\n",
        "                return\n",
        "    \n",
        "    # If the loop completes, the entered username and password were not found\n",
        "    print(\"Login unsuccessful\")\n",
        "\n",
        "login()"
      ],
      "metadata": {
        "colab": {
          "base_uri": "https://localhost:8080/"
        },
        "id": "G9gzzTmjAj2-",
        "outputId": "069d96d0-f62d-49cf-d245-c9ffa412e7c4"
      },
      "execution_count": 9,
      "outputs": [
        {
          "output_type": "stream",
          "name": "stdout",
          "text": [
            "Enter your username: shamirthalib\n",
            "Enter your password: shamir@123\n",
            "Login successful\n"
          ]
        }
      ]
    }
  ]
}